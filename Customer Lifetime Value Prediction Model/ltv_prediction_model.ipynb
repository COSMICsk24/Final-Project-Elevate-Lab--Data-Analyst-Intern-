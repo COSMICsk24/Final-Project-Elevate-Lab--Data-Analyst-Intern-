{
 "cells": [
  {
   "cell_type": "markdown",
   "id": "e2283ed6",
   "metadata": {},
   "source": [
    "# Customer Lifetime Value (LTV) Prediction\n",
    "This notebook demonstrates how to predict Customer Lifetime Value using synthetic transaction data. It includes data generation, feature engineering, model training, evaluation, and segmentation."
   ]
  },
  {
   "cell_type": "code",
   "execution_count": null,
   "id": "d2696f20",
   "metadata": {},
   "outputs": [],
   "source": [
    "import pandas as pd\n",
    "import numpy as np\n",
    "from sklearn.model_selection import train_test_split\n",
    "from sklearn.ensemble import RandomForestRegressor\n",
    "from sklearn.metrics import mean_absolute_error, mean_squared_error\n",
    "import seaborn as sns\n",
    "import matplotlib.pyplot as plt"
   ]
  },
  {
   "cell_type": "code",
   "execution_count": null,
   "id": "a43c88bb",
   "metadata": {},
   "outputs": [],
   "source": [
    "# Dataset\n",
    "np.random.seed(42)\n",
    "n_customers = 500\n",
    "\n",
    "data = pd.DataFrame({\n",
    "    'Customer_ID': [f'C{i:04d}' for i in range(n_customers)],\n",
    "    'Recency': np.random.randint(1, 365, size=n_customers),\n",
    "    'Frequency': np.random.poisson(10, size=n_customers),\n",
    "    'AOV': np.round(np.random.uniform(10, 500, size=n_customers), 2)\n",
    "})\n",
    "\n",
    "data['Predicted_LTV'] = np.round(\n",
    "    data['Frequency'] * data['AOV'] * np.exp(-data['Recency'] / 365) + np.random.normal(0, 100, n_customers), 2\n",
    ")\n",
    "\n",
    "conditions = [\n",
    "    data['Predicted_LTV'] >= data['Predicted_LTV'].quantile(0.75),\n",
    "    data['Predicted_LTV'] >= data['Predicted_LTV'].quantile(0.50),\n",
    "    data['Predicted_LTV'] >= data['Predicted_LTV'].quantile(0.25)\n",
    "]\n",
    "choices = ['High', 'Medium', 'Low']\n",
    "data['Segment'] = np.select(conditions, choices, default='Very Low')\n",
    "data.head()"
   ]
  },
  {
   "cell_type": "code",
   "execution_count": null,
   "id": "6d791017",
   "metadata": {},
   "outputs": [],
   "source": [
    "# Feature distribution\n",
    "sns.pairplot(data[['Recency', 'Frequency', 'AOV', 'Predicted_LTV']])\n",
    "plt.show()"
   ]
  },
  {
   "cell_type": "code",
   "execution_count": null,
   "id": "be681cad",
   "metadata": {},
   "outputs": [],
   "source": [
    "# Data for model\n",
    "features = ['Recency', 'Frequency', 'AOV']\n",
    "X = data[features]\n",
    "y = data['Predicted_LTV']\n",
    "\n",
    "X_train, X_test, y_train, y_test = train_test_split(X, y, test_size=0.2, random_state=42)\n",
    "\n",
    "model = RandomForestRegressor(n_estimators=100, random_state=42)\n",
    "model.fit(X_train, y_train)\n",
    "preds = model.predict(X_test)\n",
    "\n",
    "mae = mean_absolute_error(y_test, preds)\n",
    "rmse = np.sqrt(mean_squared_error(y_test, preds))\n",
    "\n",
    "print(f\"MAE: {mae:.2f}\")\n",
    "print(f\"RMSE: {rmse:.2f}\")"
   ]
  },
  {
   "cell_type": "code",
   "execution_count": null,
   "id": "7de77ec5",
   "metadata": {},
   "outputs": [],
   "source": [
    "# Predictions\n",
    "data.to_csv(\"ltv_predictions.csv\", index=False)\n",
    "print(\"Predictions saved to 'ltv_predictions.csv'\")"
   ]
  },
  {
   "cell_type": "markdown",
   "id": "71f9aa95",
   "metadata": {},
   "source": [
    "### Summary\n",
    "Model trained on Recency, Frequency, and AOV to predict LTV.\n",
    "- **MAE**: Mean error of predictions.\n",
    "- **RMSE**: Root error to capture large deviations.\n",
    "\n",
    "Customer segments created: High, Medium, Low, Very Low."
   ]
  }
 ],
 "metadata": {
  "language_info": {
   "name": "python"
  }
 },
 "nbformat": 4,
 "nbformat_minor": 5
}
