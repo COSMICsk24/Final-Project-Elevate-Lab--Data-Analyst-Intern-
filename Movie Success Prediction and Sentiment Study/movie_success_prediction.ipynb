# Movie Success Prediction and Sentiment Analysis

This notebook includes:
- Loading movie dataset
- VADER sentiment analysis
- Regression model to predict box office success
- Genre-wise sentiment trends
